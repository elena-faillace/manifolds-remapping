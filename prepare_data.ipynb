{
 "cells": [
  {
   "cell_type": "code",
   "execution_count": 1,
   "metadata": {},
   "outputs": [],
   "source": [
    "import os\n",
    "import numpy as np\n",
    "\n",
    "import global_vars\n",
    "root_dir = global_vars.root_dir\n",
    "\n",
    "from tools.preprocessing import combine_files_to_csv, remove_rois_to_exclude, add_movements_to_csv"
   ]
  },
  {
   "cell_type": "markdown",
   "metadata": {},
   "source": [
    "### Reorganize the files\n",
    "Load the information in the .mat files and combine them in a dataframe saved in .csv"
   ]
  },
  {
   "cell_type": "code",
   "execution_count": null,
   "metadata": {},
   "outputs": [
    {
     "name": "stdout",
     "output_type": "stream",
     "text": [
      "Starting to process data for: WT_young\n",
      "Processing data for: m120\n",
      "...start loading the files for: m120_fov1_fam1fam1rev-fam1\n",
      "\tdataframe created for:  /Users/elenafaillace/Library/CloudStorage/OneDrive-ImperialCollegeLondon/hippocampus/data/WT_young/m120/m120_fov1_fam1fam1rev-fam1/m120_fov1_fam1fam1rev-fam1\n"
     ]
    }
   ],
   "source": [
    "# Go through all the data\n",
    "animal_types = ['WT_young','WT_old','5xFAD_young','5xFAD_old'] # TODO: might only use WT_old\n",
    "for animal_type in animal_types:\n",
    "    print('Starting to process data for: '+animal_type)\n",
    "    path_to_folders = root_dir+'data/'+animal_type+'/'\n",
    "    all_animals = os.listdir(path_to_folders)   \n",
    "    all_animals = [animal for animal in all_animals if animal.startswith('m')]\n",
    "    all_animals.sort()\n",
    "    for animal in all_animals:\n",
    "        print('Processing data for: '+animal)\n",
    "\n",
    "        # Find all available experiments\n",
    "        all_folders = os.listdir(path_to_folders+animal+'/')\n",
    "        all_folders = [folder for folder in all_folders if folder.startswith(animal)]\n",
    "        all_folders.sort()\n",
    "        for folder in all_folders:\n",
    "            fov = folder.split('_')[1]\n",
    "            experiment, run = folder.split('_')[2].split('-')\n",
    "\n",
    "            # Combine the files from Ann's dataset in one .csv for later use\n",
    "            combine_files_to_csv(animal, fov, experiment, run)\n",
    "\n",
    "            # Remove ROIs that Ann excluded\n",
    "            remove_rois_to_exclude(animal, fov, experiment, run)"
   ]
  },
  {
   "cell_type": "markdown",
   "metadata": {},
   "source": [
    "### Add movement status, angular position, global time to the .csv dataframes"
   ]
  },
  {
   "cell_type": "code",
   "execution_count": null,
   "metadata": {},
   "outputs": [
    {
     "name": "stdout",
     "output_type": "stream",
     "text": [
      "Starting to process data for: WT_old\n",
      "Processing data for: m66\n",
      "...m66_fov1_fam1fam2-fam1\n",
      "...m66_fov1_fam1fam2-fam2\n",
      "...m66_fov1_fam1nov-fam1\n",
      "...m66_fov1_fam1nov-nov\n"
     ]
    }
   ],
   "source": [
    "animal_types = ['WT_young','WT_old','5xFAD_young','5xFAD_old']\n",
    "for animal_type in animal_types:\n",
    "    print('Starting to process data for: '+animal_type)\n",
    "    path_to_folders = root_dir+'data/'+animal_type+'/'\n",
    "    all_animals = os.listdir(path_to_folders)\n",
    "    all_animals = [animal for animal in all_animals if animal.startswith('m')]\n",
    "    all_animals.sort()\n",
    "    for animal in all_animals:\n",
    "        print('Processing data for: '+animal)\n",
    "\n",
    "        # Find all available experiments\n",
    "        all_folders = os.listdir(path_to_folders+animal+'/')\n",
    "        all_folders = [folder for folder in all_folders if folder.startswith(animal)]\n",
    "        all_folders.sort()\n",
    "        for folder in all_folders:\n",
    "            fov = folder.split('_')[1]\n",
    "            experiment, run = folder.split('_')[2].split('-')\n",
    "            print('...'+animal+'_'+fov+'_'+experiment+'-'+run)\n",
    "\n",
    "            # Add the new columns to the .csv file\n",
    "            add_movements_to_csv(animal, fov, experiment, run)"
   ]
  },
  {
   "cell_type": "code",
   "execution_count": null,
   "metadata": {},
   "outputs": [],
   "source": []
  },
  {
   "cell_type": "code",
   "execution_count": null,
   "metadata": {},
   "outputs": [],
   "source": []
  },
  {
   "cell_type": "code",
   "execution_count": null,
   "metadata": {},
   "outputs": [],
   "source": []
  }
 ],
 "metadata": {
  "kernelspec": {
   "display_name": "remapping",
   "language": "python",
   "name": "remapping"
  },
  "language_info": {
   "codemirror_mode": {
    "name": "ipython",
    "version": 3
   },
   "file_extension": ".py",
   "mimetype": "text/x-python",
   "name": "python",
   "nbconvert_exporter": "python",
   "pygments_lexer": "ipython3",
   "version": "3.12.8"
  }
 },
 "nbformat": 4,
 "nbformat_minor": 2
}
