{
 "cells": [
  {
   "cell_type": "code",
   "execution_count": 1,
   "id": "cc2abf22",
   "metadata": {},
   "outputs": [],
   "source": [
    "import os\n",
    "\n",
    "parent_directory = os.path.abspath(os.path.join(os.getcwd(), os.pardir))\n",
    "grandparent_directory = os.path.abspath(os.path.join(parent_directory, os.pardir))\n",
    "os.sys.path.append(grandparent_directory)\n",
    "\n",
    "import numpy as np\n",
    "import matplotlib.pyplot as plt\n",
    "from sklearn.decomposition import PCA\n",
    "import plotly.graph_objects as go\n",
    "from scipy.stats import pearsonr\n",
    "import pickle as pkl\n",
    "from sklearn import linear_model  # Loss: least squares, regularization: L2\n",
    "from sklearn.multioutput import MultiOutputRegressor\n",
    "\n",
    "from tools.data_formatting import (\n",
    "    get_smoothed_moving_all_data,\n",
    "    get_common_indexes_n_recordings,\n",
    "    smooth_tuning_curves_circularly,\n",
    "    from_local_to_global_index,\n",
    ")\n",
    "from tools.data_manager import get_all_experiments_runs, get_fovs_given_animal\n",
    "from tools.alignment import procrustes, canoncorr\n",
    "from params import (\n",
    "    order_experiments,\n",
    "    get_colors_for_each_experiment,\n",
    "    animals,\n",
    "    root_dir,\n",
    "    experiments_to_exclude,\n",
    ")\n",
    "\n",
    "from functions import (\n",
    "    get_predicted_tuning_curves_one_out,\n",
    "    get_predicted_tuning_curves_common_out,\n",
    ")\n"
   ]
  },
  {
   "cell_type": "code",
   "execution_count": null,
   "id": "35d1b273",
   "metadata": {},
   "outputs": [
    {
     "name": "stdout",
     "output_type": "stream",
     "text": [
      "WARNING: Removing time-points with NaN values from m62_fov2_fam1fam1rev-fam1: from 59360 to 29680\n",
      "Animal: m62, FOV: fov2, Sessions: [('fam1fam2', 'fam1'), ('fam1fam2', 'fam2'), ('fam1nov', 'fam1'), ('fam1nov', 'nov'), ('fam1fam1rev', 'fam1'), ('fam1fam1rev', 'fam1rev')]\n",
      "Animal: m66, FOV: fov1, Sessions: [('fam1fam2', 'fam2'), ('fam1nov', 'fam1'), ('fam1nov', 'nov')]\n",
      "Animal: m70, FOV: fov1, Sessions: [('fam1fam2', 'fam1'), ('fam1fam2', 'fam2'), ('fam1nov', 'fam1'), ('fam1nov', 'nov'), ('fam1fam1rev', 'fam1'), ('fam1fam1rev', 'fam1rev')]\n",
      "Animal: m116, FOV: fov1, Sessions: [('fam1fam2fam1', 'fam1'), ('fam1fam2fam1', 'fam2'), ('fam1fam2fam1', 'fam1r2'), ('fam1novfam1', 'fam1'), ('fam1novfam1', 'nov'), ('fam1novfam1', 'fam1r2'), ('fam1fam1revfam1', 'fam1'), ('fam1fam1revfam1', 'fam1rev'), ('fam1fam1revfam1', 'fam1r2')]\n",
      "Animal: m117, FOV: fov1, Sessions: [('fam1fam2', 'fam1'), ('fam1fam2', 'fam2'), ('fam1nov', 'fam1'), ('fam1nov', 'nov')]\n",
      "Animal: m120, FOV: fov1, Sessions: [('fam1fam2', 'fam1'), ('fam1fam2', 'fam2'), ('fam1novfam1', 'fam1'), ('fam1novfam1', 'nov'), ('fam1novfam1', 'fam1r2'), ('fam1fam1rev', 'fam1'), ('fam1fam1rev', 'fam1rev')]\n",
      "Animal: m120, FOV: fov2, Sessions: [('fam1fam2', 'fam1'), ('fam1fam2', 'fam2'), ('fam1fam2s2', 'fam1'), ('fam1fam2s2', 'fam2'), ('fam1novfam1', 'fam1'), ('fam1novfam1', 'nov'), ('fam1novfam1', 'fam1r2'), ('fam1fam1rev', 'fam1'), ('fam1fam1rev', 'fam1rev')]\n",
      "Animal: m127, FOV: fov1, Sessions: [('fam1fam2fam1', 'fam1'), ('fam1fam2fam1', 'fam2'), ('fam1fam2fam1', 'fam1r2'), ('fam1novfam1', 'fam1'), ('fam1novfam1', 'nov'), ('fam1novfam1', 'fam1r2'), ('fam1fam1revfam1', 'fam1'), ('fam1fam1revfam1', 'fam1rev'), ('fam1fam1revfam1', 'fam1r2')]\n",
      "Animal: m127, FOV: fov2, Sessions: [('fam1fam2fam1', 'fam1'), ('fam1fam2fam1', 'fam2'), ('fam1fam2fam1', 'fam1r2'), ('fam1novfam1', 'fam1'), ('fam1novfam1', 'nov'), ('fam1novfam1', 'fam1r2'), ('fam1fam1revfam1', 'fam1'), ('fam1fam1revfam1', 'fam1rev'), ('fam1fam1revfam1', 'fam1r2')]\n",
      "Animal: m129, FOV: fov1, Sessions: [('fam1fam2fam1', 'fam1'), ('fam1fam2fam1', 'fam2'), ('fam1fam2fam1', 'fam1r2'), ('fam1novfam1', 'fam1'), ('fam1novfam1', 'nov'), ('fam1novfam1', 'fam1r2'), ('fam1fam1revfam1', 'fam1'), ('fam1fam1revfam1', 'fam1rev'), ('fam1fam1revfam1', 'fam1r2')]\n"
     ]
    }
   ],
   "source": [
    "### Load all sessions ###\n",
    "\n",
    "data = {}\n",
    "for animal in animals:\n",
    "    fovs = get_fovs_given_animal(animal)\n",
    "    for fov in fovs:\n",
    "        sessions = get_all_experiments_runs(animal, fov)\n",
    "        # Remove sessions to exclude\n",
    "        sessions = [session for session in sessions if session not in experiments_to_exclude]\n",
    "        # Create a mapping of sessions and their chronological order\n",
    "        order_map = {value: index for index, value in enumerate(order_experiments)}\n",
    "        sessions = sorted(sessions, key=lambda x: order_map[x])\n",
    "\n",
    "        # Load the cells with the global index and the tuning curves\n",
    "        all_cells = []\n",
    "        all_tuning_curves = []\n",
    "        all_sessions = []\n",
    "        for experiment, run in sessions:\n",
    "            if (animal, fov, experiment, run) not in experiments_to_exclude:\n",
    "                _, _, _, cells, tuning_curves, _ = get_smoothed_moving_all_data(\n",
    "                    animal, fov, experiment, run\n",
    "                )\n",
    "                # cells = from_local_to_global_index(animal, fov, (experiment, run), cells) TODO: it is not needed but might be nicer to have when all the cells are registered\n",
    "                all_cells.append(cells)\n",
    "                all_tuning_curves.append(tuning_curves)\n",
    "                all_sessions.append((experiment, run))\n",
    "        if len(all_cells) > 0:\n",
    "            print(f\"Animal: {animal}, FOV: {fov}, Sessions: {all_sessions}\")\n",
    "            data[(animal, fov)] = {}\n",
    "            data[(animal, fov)][\"cells\"] = all_cells\n",
    "            data[(animal, fov)][\"tuning_curves\"] = all_tuning_curves\n",
    "            data[(animal, fov)][\"sessions\"] = all_sessions\n",
    "\n",
    "pc_components = 20\n",
    "n_neurons_to_keep = 40"
   ]
  },
  {
   "cell_type": "code",
   "execution_count": null,
   "id": "9da4f468",
   "metadata": {},
   "outputs": [],
   "source": []
  },
  {
   "cell_type": "code",
   "execution_count": null,
   "id": "b81aed37",
   "metadata": {},
   "outputs": [],
   "source": []
  },
  {
   "cell_type": "code",
   "execution_count": null,
   "id": "2ca68f09",
   "metadata": {},
   "outputs": [],
   "source": []
  },
  {
   "cell_type": "code",
   "execution_count": null,
   "id": "35698155",
   "metadata": {},
   "outputs": [],
   "source": []
  },
  {
   "cell_type": "code",
   "execution_count": null,
   "id": "350d2b46",
   "metadata": {},
   "outputs": [],
   "source": []
  },
  {
   "cell_type": "code",
   "execution_count": null,
   "id": "d1d0a321",
   "metadata": {},
   "outputs": [],
   "source": []
  }
 ],
 "metadata": {
  "kernelspec": {
   "display_name": "remapping",
   "language": "python",
   "name": "python3"
  },
  "language_info": {
   "codemirror_mode": {
    "name": "ipython",
    "version": 3
   },
   "file_extension": ".py",
   "mimetype": "text/x-python",
   "name": "python",
   "nbconvert_exporter": "python",
   "pygments_lexer": "ipython3",
   "version": "3.13.1"
  }
 },
 "nbformat": 4,
 "nbformat_minor": 5
}
