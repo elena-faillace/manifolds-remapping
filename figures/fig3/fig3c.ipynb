{
 "cells": [
  {
   "cell_type": "code",
   "execution_count": 1,
   "id": "fc88526c",
   "metadata": {},
   "outputs": [],
   "source": [
    "# Show the correlation between real and predicted tuning curves\n",
    "import os\n",
    "\n",
    "parent_directory = os.path.abspath(os.path.join(os.getcwd(), os.pardir))\n",
    "grandparent_directory = os.path.abspath(os.path.join(parent_directory, os.pardir))\n",
    "os.sys.path.append(grandparent_directory)\n",
    "\n",
    "import numpy as np\n",
    "import matplotlib.pyplot as plt\n",
    "from sklearn.decomposition import PCA\n",
    "import plotly.graph_objects as go\n",
    "from scipy.stats import pearsonr\n",
    "import pickle as pkl\n",
    "\n",
    "from tools.data_formatting import (\n",
    "    get_smoothed_moving_all_data,\n",
    "    get_common_indexes_n_recordings,\n",
    "    smooth_tuning_curves_circularly,\n",
    "    from_local_to_global_index,\n",
    ")\n",
    "from tools.data_manager import get_all_experiments_runs, get_fovs_given_animal\n",
    "from tools.alignment import procrustes, canoncorr\n",
    "from params import (\n",
    "    order_experiments,\n",
    "    get_colors_for_each_experiment,\n",
    "    animals,\n",
    "    root_dir,\n",
    "    experiments_to_exclude,\n",
    ")"
   ]
  },
  {
   "cell_type": "markdown",
   "id": "0b16ba03",
   "metadata": {},
   "source": [
    "# Load the data"
   ]
  },
  {
   "cell_type": "code",
   "execution_count": 2,
   "id": "04afdd55",
   "metadata": {},
   "outputs": [],
   "source": [
    "### Load all sessions ###\n",
    "\n",
    "animal = \"m135\"\n",
    "fov = \"fov1\"\n",
    "sessions = get_all_experiments_runs(animal, fov)\n",
    "# Remove sessions to exclude\n",
    "sessions = [session for session in sessions if session not in experiments_to_exclude]\n",
    "# Create a mapping of sessions and their chronological order\n",
    "order_map = {value: index for index, value in enumerate(order_experiments)}\n",
    "sessions = sorted(sessions, key=lambda x: order_map[x])\n",
    "\n",
    "# Load the cells with the global index and the tuning curves\n",
    "all_cells = []\n",
    "all_tuning_curves = []\n",
    "for experiment, run in sessions:\n",
    "    _, _, phi, cells, tuning_curves, _ = get_smoothed_moving_all_data(\n",
    "        animal, fov, experiment, run\n",
    "    )\n",
    "    cells = from_local_to_global_index(animal, fov, (experiment, run), cells)\n",
    "    all_cells.append(cells)\n",
    "    all_tuning_curves.append(tuning_curves)"
   ]
  },
  {
   "cell_type": "code",
   "execution_count": null,
   "id": "b37dfe05",
   "metadata": {},
   "outputs": [],
   "source": []
  },
  {
   "cell_type": "code",
   "execution_count": null,
   "id": "5b21c75d",
   "metadata": {},
   "outputs": [],
   "source": []
  },
  {
   "cell_type": "code",
   "execution_count": null,
   "id": "0f615d3c",
   "metadata": {},
   "outputs": [],
   "source": []
  },
  {
   "cell_type": "code",
   "execution_count": null,
   "id": "b192a06e",
   "metadata": {},
   "outputs": [],
   "source": []
  },
  {
   "cell_type": "code",
   "execution_count": null,
   "id": "dca724e0",
   "metadata": {},
   "outputs": [],
   "source": []
  },
  {
   "cell_type": "code",
   "execution_count": null,
   "id": "af44e9de",
   "metadata": {},
   "outputs": [],
   "source": []
  },
  {
   "cell_type": "code",
   "execution_count": null,
   "id": "97691e2a",
   "metadata": {},
   "outputs": [],
   "source": []
  },
  {
   "cell_type": "code",
   "execution_count": null,
   "id": "06695d49",
   "metadata": {},
   "outputs": [],
   "source": []
  },
  {
   "cell_type": "code",
   "execution_count": null,
   "id": "4c52f194",
   "metadata": {},
   "outputs": [],
   "source": []
  }
 ],
 "metadata": {
  "kernelspec": {
   "display_name": "remapping",
   "language": "python",
   "name": "python3"
  },
  "language_info": {
   "codemirror_mode": {
    "name": "ipython",
    "version": 3
   },
   "file_extension": ".py",
   "mimetype": "text/x-python",
   "name": "python",
   "nbconvert_exporter": "python",
   "pygments_lexer": "ipython3",
   "version": "3.12.8"
  }
 },
 "nbformat": 4,
 "nbformat_minor": 5
}
