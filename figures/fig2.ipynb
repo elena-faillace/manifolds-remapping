{
 "cells": [
  {
   "cell_type": "markdown",
   "metadata": {},
   "source": [
    "# Main results: presentation of the model and the proof of its validity\n",
    "Tuning curves prediction and position decoding from firing rates.\n",
    "\n",
    "- a. Schematic of the model\n",
    "- b. Examples of tunign curves pre and post alignment\n",
    "- c. Quantify the similarity of the tuning curves after alignment\n",
    "- d. Show the performance of the decoders built on one session and used across"
   ]
  },
  {
   "cell_type": "code",
   "execution_count": 1,
   "metadata": {},
   "outputs": [],
   "source": [
    "import os\n",
    "parent_directory = os.path.abspath(os.path.join(os.getcwd(), os.pardir))\n",
    "os.sys.path.append(parent_directory)\n",
    "\n",
    "import numpy as np\n",
    "import matplotlib.pyplot as plt\n",
    "from sklearn.decomposition import PCA\n",
    "\n",
    "from tools.data_formatting import get_smoothed_moving_all_data, get_common_indexes_2recordings"
   ]
  },
  {
   "cell_type": "code",
   "execution_count": null,
   "metadata": {},
   "outputs": [],
   "source": []
  },
  {
   "cell_type": "markdown",
   "metadata": {},
   "source": [
    "## Fig.2.b "
   ]
  },
  {
   "cell_type": "code",
   "execution_count": 7,
   "metadata": {},
   "outputs": [
    {
     "name": "stdout",
     "output_type": "stream",
     "text": [
      "Runs: fam1novfam1 fam1 - fam1novfam1 fam1r2\n",
      "Shape tuning_curves: (360, 186) - (360, 186)\n"
     ]
    }
   ],
   "source": [
    "# Load data\n",
    "animal = 'm120'\n",
    "fov = 'fov1'\n",
    "experiment1 = 'fam1novfam1'\n",
    "run1 = 'fam1'\n",
    "experiment2 = 'fam1novfam1'\n",
    "run2 = 'fam1r2'\n",
    "n_points = 360\n",
    "\n",
    "firing_rates_run1, time_run1, phi_run1, cells_run1, tuning_curves1, phi_bins_run1 = get_smoothed_moving_all_data(animal, fov, experiment1, run1, n_points=n_points)\n",
    "firing_rates_run2, time_run2, phi_run2, cells_run2, tuning_curves2, phi_bins_run2 = get_smoothed_moving_all_data(animal, fov, experiment2, run2, n_points=n_points)\n",
    "\n",
    "common_cells_run1, common_cells_run2, ordered_cells_run1, ordered_cells_run2 = get_common_indexes_2recordings(cells_run1, cells_run2)\n",
    "tuning_curves1 = tuning_curves1[:, common_cells_run1][:, ordered_cells_run1]\n",
    "tuning_curves2 = tuning_curves2[:, common_cells_run2][:, ordered_cells_run2]\n",
    "cells_run1 = cells_run1[common_cells_run1][ordered_cells_run1]\n",
    "cells_run2 = cells_run2[common_cells_run2][ordered_cells_run2]\n",
    "\n",
    "print(f'Runs: {experiment1} {run1} - {experiment2} {run2}\\nShape tuning_curves: {tuning_curves1.shape} - {tuning_curves2.shape}')"
   ]
  },
  {
   "cell_type": "code",
   "execution_count": 5,
   "metadata": {},
   "outputs": [
    {
     "data": {
      "text/plain": [
       "(360, 186)"
      ]
     },
     "execution_count": 5,
     "metadata": {},
     "output_type": "execute_result"
    }
   ],
   "source": [
    "# Align the tuning curves and project in other space\n",
    "pca = PCA(n_components=20)\n",
    "pca_tuning_curves1 = pca.fit_transform(tuning_curves1)\n",
    "components_run1 = pca.components_\n",
    "pca_tuning_curves2 = pca.fit_transform(tuning_curves2)\n",
    "components_run2 = pca.components_\n",
    "\n"
   ]
  },
  {
   "cell_type": "code",
   "execution_count": null,
   "metadata": {},
   "outputs": [],
   "source": []
  },
  {
   "cell_type": "code",
   "execution_count": null,
   "metadata": {},
   "outputs": [],
   "source": []
  },
  {
   "cell_type": "code",
   "execution_count": null,
   "metadata": {},
   "outputs": [],
   "source": []
  },
  {
   "cell_type": "code",
   "execution_count": null,
   "metadata": {},
   "outputs": [],
   "source": []
  }
 ],
 "metadata": {
  "kernelspec": {
   "display_name": "remapping",
   "language": "python",
   "name": "python3"
  },
  "language_info": {
   "codemirror_mode": {
    "name": "ipython",
    "version": 3
   },
   "file_extension": ".py",
   "mimetype": "text/x-python",
   "name": "python",
   "nbconvert_exporter": "python",
   "pygments_lexer": "ipython3",
   "version": "3.13.1"
  }
 },
 "nbformat": 4,
 "nbformat_minor": 2
}
